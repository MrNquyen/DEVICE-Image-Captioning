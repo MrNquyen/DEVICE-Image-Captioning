{
 "cells": [
  {
   "cell_type": "code",
   "execution_count": 1,
   "id": "2d7fd951",
   "metadata": {},
   "outputs": [],
   "source": [
    "from utils.utils import load_json, load_npy\n",
    "import numpy as np"
   ]
  },
  {
   "cell_type": "code",
   "execution_count": 2,
   "id": "b79df406",
   "metadata": {},
   "outputs": [],
   "source": [
    "import numpy as np\n",
    "imdb_path = \"F:\\\\UNIVERSITY\\\\NCKH\\\\NCKH_V2\\\\baseline\\\\DEVICE\\\\data\\\\val_imdb.npy\"\n",
    "imdb = np.load(imdb_path, allow_pickle=True)"
   ]
  },
  {
   "cell_type": "code",
   "execution_count": 4,
   "id": "6802306e",
   "metadata": {},
   "outputs": [
    {
     "data": {
      "text/plain": [
       "dict_keys(['image_name', 'image_path', 'image_width', 'image_height', 'feature_path', 'image_id', 'ocr_tokens', 'ocr_scores', 'ocr_normalized_boxes', 'caption_id', 'obj_normalized_boxes', 'caption_str', 'caption_tokens', 'reference_strs', 'reference_tokens'])"
      ]
     },
     "execution_count": 4,
     "metadata": {},
     "output_type": "execute_result"
    }
   ],
   "source": [
    "imdb[0].keys()"
   ]
  }
 ],
 "metadata": {
  "kernelspec": {
   "display_name": "global_venv",
   "language": "python",
   "name": "python3"
  },
  "language_info": {
   "codemirror_mode": {
    "name": "ipython",
    "version": 3
   },
   "file_extension": ".py",
   "mimetype": "text/x-python",
   "name": "python",
   "nbconvert_exporter": "python",
   "pygments_lexer": "ipython3",
   "version": "3.12.1"
  }
 },
 "nbformat": 4,
 "nbformat_minor": 5
}
